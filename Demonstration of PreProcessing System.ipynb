{
 "cells": [
  {
   "cell_type": "markdown",
   "metadata": {},
   "source": [
    "# Demonstration of PreProcessing System"
   ]
  },
  {
   "cell_type": "code",
   "execution_count": 1,
   "metadata": {},
   "outputs": [],
   "source": [
    "from PreProcessing import PreProcessing\n",
    "\n",
    "import pandas as pd\n",
    "import numpy as np\n",
    "import matplotlib.pyplot as plt\n",
    "import pyconll\n",
    "import os\n",
    "import Utility\n",
    "PATH = \"DATA\"\n",
    "conllu_files = pd.Series(os.listdir(PATH))\n",
    "conllu_files = conllu_files[conllu_files.str.contains('.conllu')].values.tolist()"
   ]
  },
  {
   "cell_type": "markdown",
   "metadata": {},
   "source": [
    "Initialization of PreProcessing class"
   ]
  },
  {
   "cell_type": "code",
   "execution_count": 2,
   "metadata": {},
   "outputs": [],
   "source": [
    "pp = PreProcessing()"
   ]
  },
  {
   "cell_type": "markdown",
   "metadata": {},
   "source": [
    "### A - Sentence Splitters"
   ]
  },
  {
   "cell_type": "markdown",
   "metadata": {},
   "source": [
    "Loading the UD corpuses"
   ]
  },
  {
   "cell_type": "code",
   "execution_count": 3,
   "metadata": {},
   "outputs": [
    {
     "name": "stdout",
     "output_type": "stream",
     "text": [
      "19276 sentences are loaded.\n",
      "Wall time: 3 s\n"
     ]
    }
   ],
   "source": [
    "%%time\n",
    "sentences = []\n",
    "for file in conllu_files: #[0:2]\n",
    "    data = pyconll.load_from_file(PATH + \"/\" + file)\n",
    "    for sentence in data:\n",
    "        s = sentence.text\n",
    "        \n",
    "        # many of the sentences in the corpus are not in fact sentences, ending with comma, or no punctuation at all\n",
    "        # so we are turning them into sentences by adding ellipsis\n",
    "        \n",
    "        if s[-1] not in pp.MLBasedSentenceSplitter.sentence_ending_punctuations:\n",
    "            s += '...'\n",
    "        sentences.append(s)\n",
    "        \n",
    "print(len(sentences), 'sentences are loaded.')"
   ]
  },
  {
   "cell_type": "markdown",
   "metadata": {},
   "source": [
    "Test strings for sentence splitters"
   ]
  },
  {
   "cell_type": "code",
   "execution_count": 4,
   "metadata": {},
   "outputs": [],
   "source": [
    "string = 'Bugun canım çok sıkıldı. Yarın da sıkılacak, yarın da... Hep...'\n",
    "string2 = 'Sayın Av. Meryem Beşer dedi ki... Sonra da dedi ki, \"dava düştü konu kapandı\".'"
   ]
  },
  {
   "cell_type": "markdown",
   "metadata": {},
   "source": [
    "#### Machine Learning Based Sentence Splitter"
   ]
  },
  {
   "cell_type": "markdown",
   "metadata": {},
   "source": [
    "Training and Testing using our own implementation of Naive Bayes Classifier"
   ]
  },
  {
   "cell_type": "code",
   "execution_count": 5,
   "metadata": {},
   "outputs": [
    {
     "name": "stdout",
     "output_type": "stream",
     "text": [
      "Wall time: 50min 29s\n"
     ]
    },
    {
     "data": {
      "text/html": [
       "<div>\n",
       "<style scoped>\n",
       "    .dataframe tbody tr th:only-of-type {\n",
       "        vertical-align: middle;\n",
       "    }\n",
       "\n",
       "    .dataframe tbody tr th {\n",
       "        vertical-align: top;\n",
       "    }\n",
       "\n",
       "    .dataframe thead th {\n",
       "        text-align: right;\n",
       "    }\n",
       "</style>\n",
       "<table border=\"1\" class=\"dataframe\">\n",
       "  <thead>\n",
       "    <tr style=\"text-align: right;\">\n",
       "      <th></th>\n",
       "      <th>Accuracy</th>\n",
       "      <th>Recall</th>\n",
       "      <th>Precision</th>\n",
       "      <th>F1</th>\n",
       "    </tr>\n",
       "  </thead>\n",
       "  <tbody>\n",
       "    <tr>\n",
       "      <th>Score</th>\n",
       "      <td>0.875256</td>\n",
       "      <td>0.103761</td>\n",
       "      <td>0.300436</td>\n",
       "      <td>0.15425</td>\n",
       "    </tr>\n",
       "  </tbody>\n",
       "</table>\n",
       "</div>"
      ],
      "text/plain": [
       "       Accuracy    Recall  Precision       F1\n",
       "Score  0.875256  0.103761   0.300436  0.15425"
      ]
     },
     "execution_count": 5,
     "metadata": {},
     "output_type": "execute_result"
    }
   ],
   "source": [
    "%%time\n",
    "pp.MLBasedSentenceSplitter.fit(sentences, model = 'NBC')\n",
    "y = pp.MLBasedSentenceSplitter.create_labels(sentences)\n",
    "y_hat = pp.MLBasedSentenceSplitter.predict(' '.join(sentences), model = 'NBC')\n",
    "pp.all_metrics_together(y, y_hat)"
   ]
  },
  {
   "cell_type": "markdown",
   "metadata": {},
   "source": [
    "Training and Testing using scikit-learn's vanilla Logistic Regression"
   ]
  },
  {
   "cell_type": "code",
   "execution_count": 6,
   "metadata": {},
   "outputs": [
    {
     "name": "stdout",
     "output_type": "stream",
     "text": [
      "Wall time: 51min 11s\n"
     ]
    },
    {
     "data": {
      "text/html": [
       "<div>\n",
       "<style scoped>\n",
       "    .dataframe tbody tr th:only-of-type {\n",
       "        vertical-align: middle;\n",
       "    }\n",
       "\n",
       "    .dataframe tbody tr th {\n",
       "        vertical-align: top;\n",
       "    }\n",
       "\n",
       "    .dataframe thead th {\n",
       "        text-align: right;\n",
       "    }\n",
       "</style>\n",
       "<table border=\"1\" class=\"dataframe\">\n",
       "  <thead>\n",
       "    <tr style=\"text-align: right;\">\n",
       "      <th></th>\n",
       "      <th>Accuracy</th>\n",
       "      <th>Recall</th>\n",
       "      <th>Precision</th>\n",
       "      <th>F1</th>\n",
       "    </tr>\n",
       "  </thead>\n",
       "  <tbody>\n",
       "    <tr>\n",
       "      <th>Score</th>\n",
       "      <td>0.893389</td>\n",
       "      <td>0.061634</td>\n",
       "      <td>0.643902</td>\n",
       "      <td>0.1125</td>\n",
       "    </tr>\n",
       "  </tbody>\n",
       "</table>\n",
       "</div>"
      ],
      "text/plain": [
       "       Accuracy    Recall  Precision      F1\n",
       "Score  0.893389  0.061634   0.643902  0.1125"
      ]
     },
     "execution_count": 6,
     "metadata": {},
     "output_type": "execute_result"
    }
   ],
   "source": [
    "%%time\n",
    "pp.MLBasedSentenceSplitter.fit(sentences, model = 'LogisticRegression')\n",
    "y = pp.MLBasedSentenceSplitter.create_labels(sentences)\n",
    "y_hat = pp.MLBasedSentenceSplitter.predict(' '.join(sentences), model = 'LogisticRegression')\n",
    "pp.all_metrics_together(y, y_hat)"
   ]
  },
  {
   "cell_type": "markdown",
   "metadata": {},
   "source": [
    "#### Rule Based Sentence Splitter"
   ]
  },
  {
   "cell_type": "code",
   "execution_count": 7,
   "metadata": {
    "pycharm": {
     "name": "#%%\n"
    }
   },
   "outputs": [
    {
     "data": {
      "text/html": [
       "<div>\n",
       "<style scoped>\n",
       "    .dataframe tbody tr th:only-of-type {\n",
       "        vertical-align: middle;\n",
       "    }\n",
       "\n",
       "    .dataframe tbody tr th {\n",
       "        vertical-align: top;\n",
       "    }\n",
       "\n",
       "    .dataframe thead th {\n",
       "        text-align: right;\n",
       "    }\n",
       "</style>\n",
       "<table border=\"1\" class=\"dataframe\">\n",
       "  <thead>\n",
       "    <tr style=\"text-align: right;\">\n",
       "      <th></th>\n",
       "      <th>Recall</th>\n",
       "      <th>Precision</th>\n",
       "      <th>F1 Score</th>\n",
       "    </tr>\n",
       "  </thead>\n",
       "  <tbody>\n",
       "    <tr>\n",
       "      <th>Score</th>\n",
       "      <td>0.916042</td>\n",
       "      <td>0.886647</td>\n",
       "      <td>0.901104</td>\n",
       "    </tr>\n",
       "  </tbody>\n",
       "</table>\n",
       "</div>"
      ],
      "text/plain": [
       "         Recall  Precision  F1 Score\n",
       "Score  0.916042   0.886647  0.901104"
      ]
     },
     "execution_count": 7,
     "metadata": {},
     "output_type": "execute_result"
    }
   ],
   "source": [
    "splitted_sentences = pp.RuleBasedSentenceSplitter.split_text_into_sentences(' '.join(sentences))\n",
    "list_for_recall = [1 if sentence in sentences else 0 for sentence in splitted_sentences]\n",
    "list_for_precision = [1 if sentence in splitted_sentences else 0 for sentence in sentences]\n",
    "recall = np.mean(list_for_recall)\n",
    "precision = np.mean(list_for_precision)\n",
    "f1_score = 2 / (recall ** -1 + precision ** -1)\n",
    "df_rulebasedresults = pd.DataFrame([recall, precision, f1_score], columns = ['Score'], index = ['Recall', 'Precision', 'F1 Score']).T\n",
    "df_rulebasedresults"
   ]
  },
  {
   "cell_type": "markdown",
   "metadata": {},
   "source": [
    "#### Visual Inspection of Sentence Splitting"
   ]
  },
  {
   "cell_type": "markdown",
   "metadata": {},
   "source": [
    "Testing on the first string"
   ]
  },
  {
   "cell_type": "code",
   "execution_count": null,
   "metadata": {},
   "outputs": [],
   "source": [
    "string = 'Bugun canım çok sıkıldı. Yarın da sıkılacak, yarın da... Hep...'\n",
    "string2 = 'Sayın Av. Meryem Beşer dedi ki... Sonra da dedi ki, \"dava düştü konu kapandı\".'"
   ]
  },
  {
   "cell_type": "code",
   "execution_count": 8,
   "metadata": {},
   "outputs": [
    {
     "name": "stdout",
     "output_type": "stream",
     "text": [
      "Naive Bayes result: ['Bugun canım çok sıkıldı.', 'Yarın da sıkılacak, yarın da...', 'Hep...']\n",
      "LogisticRegression result: ['Bugun canım çok sıkıldı. Yarın da sıkılacak, yarın da... Hep...']\n",
      "Rule Based result: ['Bugun canım çok sıkıldı.', 'Yarın da sıkılacak, yarın da...', 'Hep...']\n"
     ]
    }
   ],
   "source": [
    "print('Naive Bayes result:', pp.MLBasedSentenceSplitter.split_text_into_sentences(string, model = 'NBC'))\n",
    "print('LogisticRegression result:', pp.MLBasedSentenceSplitter.split_text_into_sentences(string, model = 'LogisticRegression'))\n",
    "print('Rule Based result:', pp.RuleBasedSentenceSplitter.split_text_into_sentences(string))"
   ]
  },
  {
   "cell_type": "markdown",
   "metadata": {},
   "source": [
    "Testing on the second string"
   ]
  },
  {
   "cell_type": "code",
   "execution_count": 9,
   "metadata": {},
   "outputs": [
    {
     "name": "stdout",
     "output_type": "stream",
     "text": [
      "Naive Bayes result: ['Sayın', 'Av.', 'Meryem', 'Beşer dedi ki...', 'Sonra da dedi ki,', '\"dava düştü konu kapandı\".']\n",
      "LogisticRegression result: ['Sayın Av. Meryem Beşer dedi ki... Sonra da dedi ki, \"dava düştü konu kapandı\".']\n",
      "Rule Based result: ['Sayın Av. Meryem Beşer dedi ki...', 'Sonra da dedi ki, \"dava düştü konu kapandı\".']\n"
     ]
    }
   ],
   "source": [
    "print('Naive Bayes result:', pp.MLBasedSentenceSplitter.split_text_into_sentences(string2, model = 'NBC'))\n",
    "print('LogisticRegression result:', pp.MLBasedSentenceSplitter.split_text_into_sentences(string2, model = 'LogisticRegression'))\n",
    "print('Rule Based result:', pp.RuleBasedSentenceSplitter.split_text_into_sentences(string2))"
   ]
  },
  {
   "cell_type": "markdown",
   "metadata": {},
   "source": [
    "### B - Tokenizer"
   ]
  },
  {
   "cell_type": "markdown",
   "metadata": {},
   "source": [
    "Test strings for tokenization"
   ]
  },
  {
   "cell_type": "code",
   "execution_count": 10,
   "metadata": {
    "pycharm": {
     "name": "#%%\n"
    }
   },
   "outputs": [],
   "source": [
    "test_sentence1 = \"merhaba, name@gmail.com <html>!! www.abc.com #hello selam# nasılsınız:  milli eğitim bakanlığı Av. Hatice Hanım 2.01.1997'de 20:02'de aradı\"\n",
    "test_sentence2 = 'boğaziçi üniversitesi öğrencileri dönemi uzaktan geçirdi.'"
   ]
  },
  {
   "cell_type": "markdown",
   "metadata": {},
   "source": [
    "#### Rule Based Tokenizer"
   ]
  },
  {
   "cell_type": "markdown",
   "metadata": {
    "pycharm": {
     "name": "#%% md\n"
    }
   },
   "source": [
    "Testing the rule based Tokenizer"
   ]
  },
  {
   "cell_type": "code",
   "execution_count": 11,
   "metadata": {
    "pycharm": {
     "name": "#%%\n"
    }
   },
   "outputs": [
    {
     "name": "stdout",
     "output_type": "stream",
     "text": [
      "['merhaba', ',', 'name@gmail.com', '<html>', '!!', 'www.abc.com', '#hello', 'selam', '#', 'nasılsınız', ':', 'milli eğitim bakanlığı', 'Av.', 'Hatice', 'Hanım', \"2.01.1997'de\", \"20:02'de\", 'aradı']\n",
      "['boğaziçi üniversitesi', 'öğrencileri', 'dönemi', 'uzaktan', 'geçirdi', '.']\n"
     ]
    }
   ],
   "source": [
    "# Rule Based Tokenizer Test:\n",
    "list_of_tokens = pp.RuleBasedTokenizer.tokenize(test_sentence1)\n",
    "print(list_of_tokens)\n",
    "list_of_tokens2 = pp.RuleBasedTokenizer.tokenize(test_sentence2)\n",
    "print(list_of_tokens2)"
   ]
  },
  {
   "cell_type": "markdown",
   "metadata": {},
   "source": [
    "#### Machine Learning Based Tokenizer"
   ]
  },
  {
   "cell_type": "markdown",
   "metadata": {},
   "source": [
    "Testing the ML based Tokenizer"
   ]
  },
  {
   "cell_type": "markdown",
   "metadata": {},
   "source": [
    "Training and Testing using our own implementation of Naive Bayes Classifier"
   ]
  },
  {
   "cell_type": "code",
   "execution_count": 12,
   "metadata": {
    "pycharm": {
     "name": "#%%\n"
    }
   },
   "outputs": [
    {
     "name": "stdout",
     "output_type": "stream",
     "text": [
      "Wall time: 13.2 s\n"
     ]
    },
    {
     "data": {
      "text/html": [
       "<div>\n",
       "<style scoped>\n",
       "    .dataframe tbody tr th:only-of-type {\n",
       "        vertical-align: middle;\n",
       "    }\n",
       "\n",
       "    .dataframe tbody tr th {\n",
       "        vertical-align: top;\n",
       "    }\n",
       "\n",
       "    .dataframe thead th {\n",
       "        text-align: right;\n",
       "    }\n",
       "</style>\n",
       "<table border=\"1\" class=\"dataframe\">\n",
       "  <thead>\n",
       "    <tr style=\"text-align: right;\">\n",
       "      <th></th>\n",
       "      <th>Accuracy</th>\n",
       "      <th>Recall</th>\n",
       "      <th>Precision</th>\n",
       "      <th>F1</th>\n",
       "    </tr>\n",
       "  </thead>\n",
       "  <tbody>\n",
       "    <tr>\n",
       "      <th>Score</th>\n",
       "      <td>0.86805</td>\n",
       "      <td>0.21142</td>\n",
       "      <td>0.80479</td>\n",
       "      <td>0.334869</td>\n",
       "    </tr>\n",
       "  </tbody>\n",
       "</table>\n",
       "</div>"
      ],
      "text/plain": [
       "       Accuracy   Recall  Precision        F1\n",
       "Score   0.86805  0.21142    0.80479  0.334869"
      ]
     },
     "execution_count": 12,
     "metadata": {},
     "output_type": "execute_result"
    }
   ],
   "source": [
    "%%time\n",
    "\n",
    "tokenization_corpus = Utility.load_file(PATH + \"/\" + \"handmade_turkish_blog_corpus.txt\")\n",
    "\n",
    "pp.MLBasedTokenizer.fit(tokenization_corpus, model = 'NBC')\n",
    "y = pp.MLBasedTokenizer.create_labels(tokenization_corpus)\n",
    "y_hat = pp.MLBasedTokenizer.predict(tokenization_corpus)\n",
    "pp.all_metrics_together(y, y_hat)"
   ]
  },
  {
   "cell_type": "markdown",
   "metadata": {},
   "source": [
    "Training and Testing using scikit-learn's vanilla Logistic Regression"
   ]
  },
  {
   "cell_type": "code",
   "execution_count": 13,
   "metadata": {
    "pycharm": {
     "name": "#%%\n"
    }
   },
   "outputs": [
    {
     "name": "stdout",
     "output_type": "stream",
     "text": [
      "Wall time: 1.02 s\n"
     ]
    },
    {
     "data": {
      "text/html": [
       "<div>\n",
       "<style scoped>\n",
       "    .dataframe tbody tr th:only-of-type {\n",
       "        vertical-align: middle;\n",
       "    }\n",
       "\n",
       "    .dataframe tbody tr th {\n",
       "        vertical-align: top;\n",
       "    }\n",
       "\n",
       "    .dataframe thead th {\n",
       "        text-align: right;\n",
       "    }\n",
       "</style>\n",
       "<table border=\"1\" class=\"dataframe\">\n",
       "  <thead>\n",
       "    <tr style=\"text-align: right;\">\n",
       "      <th></th>\n",
       "      <th>Accuracy</th>\n",
       "      <th>Recall</th>\n",
       "      <th>Precision</th>\n",
       "      <th>F1</th>\n",
       "    </tr>\n",
       "  </thead>\n",
       "  <tbody>\n",
       "    <tr>\n",
       "      <th>Score</th>\n",
       "      <td>0.996471</td>\n",
       "      <td>0.99682</td>\n",
       "      <td>0.981024</td>\n",
       "      <td>0.988859</td>\n",
       "    </tr>\n",
       "  </tbody>\n",
       "</table>\n",
       "</div>"
      ],
      "text/plain": [
       "       Accuracy   Recall  Precision        F1\n",
       "Score  0.996471  0.99682   0.981024  0.988859"
      ]
     },
     "execution_count": 13,
     "metadata": {},
     "output_type": "execute_result"
    }
   ],
   "source": [
    "%%time\n",
    "pp.MLBasedTokenizer.fit(tokenization_corpus, model = 'LogisticRegression')\n",
    "y = pp.MLBasedTokenizer.create_labels(tokenization_corpus)\n",
    "y_hat = pp.MLBasedTokenizer.predict(tokenization_corpus, model = 'LogisticRegression')\n",
    "pp.all_metrics_together(y, y_hat)\n"
   ]
  },
  {
   "cell_type": "code",
   "execution_count": 33,
   "metadata": {
    "pycharm": {
     "name": "#%%\n"
    }
   },
   "outputs": [
    {
     "name": "stdout",
     "output_type": "stream",
     "text": [
      "Original sentence is: merhaba! Nasılsınız? Ben çok iyiyim.\n",
      "Naive Bayes result: ['merhaba', '! Nasılsınız', '? Ben çok iyiyim', '.']\n",
      "LogisticRegression result: ['merhaba', '!', ' Nasılsınız', '?', ' Ben', ' çok', ' iyiyim', '.']\n",
      "Rule Based result: ['merhaba', '!', 'Nasılsınız', '?', 'Ben', 'çok', 'iyiyim', '.']\n",
      "\n",
      "\n",
      "Original sentence is: merhaba. nasılsınız? Ben 22.12.1996 gününde !Eskişehir'den 20:02 treniyle (buraya) geldim.\n",
      "Naive Bayes result: ['merhaba', '.', ' nasılsınız', '? Ben ', '2', '2', '.', '12', '.', '19', '9', '6', 'g', 'ününde ', \"!Eskişehir'den \", '2', '0', ':', '02', 't', 'reniyle ', '(buraya', ') geldim', '.']\n",
      "LogisticRegression result: ['merhaba', '.', ' nasılsınız', '?', ' Ben', ' 22.12.1996', ' gününde', '!', \"Eskişehir'den\", ' 20:02', ' treniyle', '(', 'buraya', ')', ' geldim', '.']\n",
      "Rule Based result: ['merhaba', '.', 'nasılsınız', '?', 'Ben', '22.12.1996', 'gününde', '!', \"Eskişehir'den\", '20:02', 'treniyle', '(', 'buraya', ')', 'geldim', '.']\n"
     ]
    }
   ],
   "source": [
    "tokenizer_test1 = \"merhaba! Nasılsınız? Ben çok iyiyim.\"\n",
    "\n",
    "print('Original sentence is:', tokenizer_test1)\n",
    "print('Naive Bayes result:', pp.MLBasedTokenizer.split_to_tokens(tokenizer_test1, model = 'NBC'))\n",
    "print('LogisticRegression result:', pp.MLBasedTokenizer.split_to_tokens(tokenizer_test1, model = 'LogisticRegression'))\n",
    "print('Rule Based result:', pp.RuleBasedTokenizer.tokenize(tokenizer_test1))\n",
    "print(\"\\n\")\n",
    "tokenizer_test2 = \"merhaba. nasılsınız? Ben 22.12.1996 gününde !Eskişehir'den 20:02 treniyle (buraya) geldim.\"\n",
    "print('Original sentence is:', tokenizer_test2)\n",
    "print('Naive Bayes result:', pp.MLBasedTokenizer.split_to_tokens(tokenizer_test2, model = 'NBC'))\n",
    "print('LogisticRegression result:', pp.MLBasedTokenizer.split_to_tokens(tokenizer_test2, model = 'LogisticRegression'))\n",
    "print('Rule Based result:', pp.RuleBasedTokenizer.tokenize(tokenizer_test2))\n"
   ]
  },
  {
   "cell_type": "markdown",
   "metadata": {},
   "source": [
    "### C - Normalizer"
   ]
  },
  {
   "cell_type": "markdown",
   "metadata": {},
   "source": [
    "- removes punctuations\n",
    "- converts letters to lower case\n",
    "- does not alter the token further if it is in MWE lexicon\n",
    "- converts numbers to text form\n",
    "- removes accent marks\n",
    "- corrects typos (using Lexicon + Levenshtein distance (calculated for both consonants and whole word))"
   ]
  },
  {
   "cell_type": "code",
   "execution_count": 29,
   "metadata": {},
   "outputs": [
    {
     "name": "stdout",
     "output_type": "stream",
     "text": [
      "['benim', 'kedimin', 'suratı', 'gri', 'gözleri', 'ise', 'sarı', 'renkte']\n",
      "['kah', 'güldük', 'kah', 'üç', 'kez', 'yere', 'düştük', 've', 'sırada']\n",
      "türk hava yolları\n"
     ]
    }
   ],
   "source": [
    "test_list_for_normalizer = ['Benim', 'kedımin', 'surati', 'gri', 'gozleri', 'ise', 'sarı', 'renkkte...']\n",
    "test_list2_for_normalizer = ['Kâh', 'gulduk', 'kôh', '3', 'kez', 'yere', 'düştuk...!!!', 've', 'sırada...']\n",
    "test_list3_for_normalizer = ['Türk Hava Yolları!!!']\n",
    "normalized_tokens = pp.Normalizer.normalize(test_list_for_normalizer)\n",
    "normalized_tokens_2 = pp.Normalizer.normalize(test_list2_for_normalizer)\n",
    "normalized_tokens_3 = pp.Normalizer.normalize(test_list3_for_normalizer)\n",
    "print(normalized_tokens)\n",
    "print(normalized_tokens_2)\n",
    "print(normalized_tokens_3)"
   ]
  },
  {
   "cell_type": "markdown",
   "metadata": {},
   "source": [
    "### D - Stemmer"
   ]
  },
  {
   "cell_type": "markdown",
   "metadata": {},
   "source": [
    "Test words for stemming"
   ]
  },
  {
   "cell_type": "code",
   "execution_count": 16,
   "metadata": {
    "pycharm": {
     "name": "#%%\n"
    }
   },
   "outputs": [],
   "source": [
    "test_word1 = 'kitapçılardan'\n",
    "test_word2 = 'biliyorlardı'\n",
    "test_word3 = 'nasılsınız'\n",
    "test_word4 = 'gözlemek'\n",
    "test_word5 = 'yapamayacaklarmış'\n",
    "test_word6 = 'kalelerimizdekilerden'\n",
    "test_word7 = 'kulaklıklarım'\n",
    "test_word8 = 'plakçıların'\n",
    "test_word9 = 'kodlama'\n",
    "test_word10 = 'mutluluktan'"
   ]
  },
  {
   "cell_type": "markdown",
   "metadata": {
    "pycharm": {
     "name": "#%% md\n"
    }
   },
   "source": [
    "Stemmer Test:"
   ]
  },
  {
   "cell_type": "code",
   "execution_count": 17,
   "metadata": {
    "pycharm": {
     "name": "#%%\n"
    }
   },
   "outputs": [
    {
     "name": "stdout",
     "output_type": "stream",
     "text": [
      "kitapçılar\n",
      "kitapçı\n",
      "kitap\n",
      "kitapçılarda\n",
      "kitap\n",
      "is noun\n",
      "biliyorlard\n",
      "biliyorlar\n",
      "biliyor\n",
      "bili\n",
      "bil\n",
      "biliyorlar\n",
      "biliyor\n",
      "is verb\n",
      "nasılsı\n",
      "nasılsı\n",
      "nasıl\n",
      "nasılsı\n",
      "is verb\n",
      "gözle\n",
      "göz\n",
      "gözleme\n",
      "is verb\n",
      "yapamayacaklar\n",
      "yapamayacak\n",
      "yapamay\n",
      "yapa\n",
      "yap\n",
      "is verb\n",
      "kalelerimizdekiler\n",
      "kalelerimizdeki\n",
      "kalelerimizde\n",
      "kalelerimiz\n",
      "kaleleri\n",
      "kale\n",
      "kalelerimizdekilerde\n",
      "kale\n",
      "is noun\n",
      "kulaklıkları\n",
      "kulaklık\n",
      "kulak\n",
      "kulaklıklar\n",
      "kulaklıkl\n",
      "kulaklıkları\n",
      "kulak\n",
      "is noun\n",
      "plakçılar\n",
      "plakçı\n",
      "plak\n",
      "plakçıları\n",
      "plak\n",
      "is noun\n",
      "kodla\n",
      "kodla\n",
      "kod\n",
      "is verb\n",
      "mutluluk\n",
      "mutlu\n",
      "mutlulukta\n",
      "mutlu\n",
      "is noun\n",
      "Test word 1 is: kitapçılardan Stem is: kitap\n",
      "Test word 2 is: biliyorlardı Stem is: bil\n",
      "Test word 3 is: nasılsınız Stem is: nasıl\n",
      "Test word 4 is: gözlemek Stem is: göz\n",
      "Test word 5 is: yapamayacaklarmış Stem is: yap\n",
      "Test word 6 is: kalelerimizdekilerden Stem is: kale\n",
      "Test word 7 is: kulaklıklarım Stem is: kulak\n",
      "Test word 8 is: plakçıların Stem is: plak\n",
      "Test word 9 is: kodlama Stem is: kod\n",
      "Test word 10 is: mutluluktan Stem is: mutlu\n"
     ]
    }
   ],
   "source": [
    "# Stemmer test:\n",
    "stem1 = pp.Stemmer.stemmer(test_word1)\n",
    "stem2 = pp.Stemmer.stemmer(test_word2)\n",
    "stem3 = pp.Stemmer.stemmer(test_word3)\n",
    "stem4 = pp.Stemmer.stemmer(test_word4)\n",
    "stem5 = pp.Stemmer.stemmer(test_word5)\n",
    "stem6 = pp.Stemmer.stemmer(test_word6)\n",
    "stem7 = pp.Stemmer.stemmer(test_word7)\n",
    "stem8 = pp.Stemmer.stemmer(test_word8)\n",
    "stem9 = pp.Stemmer.stemmer(test_word9)\n",
    "stem10 = pp.Stemmer.stemmer(test_word10)\n",
    "print('Test word 1 is:', test_word1, 'Stem is:', stem1)\n",
    "print('Test word 2 is:', test_word2, 'Stem is:', stem2)\n",
    "print('Test word 3 is:', test_word3, 'Stem is:', stem3)\n",
    "print('Test word 4 is:', test_word4, 'Stem is:', stem4)\n",
    "print('Test word 5 is:', test_word5, 'Stem is:', stem5)\n",
    "print('Test word 6 is:', test_word6, 'Stem is:', stem6)\n",
    "print('Test word 7 is:', test_word7, 'Stem is:', stem7)\n",
    "print('Test word 8 is:', test_word8, 'Stem is:', stem8)\n",
    "print('Test word 9 is:', test_word9, 'Stem is:', stem9)\n",
    "print('Test word 10 is:', test_word10, 'Stem is:', stem10)\n"
   ]
  },
  {
   "cell_type": "markdown",
   "metadata": {},
   "source": [
    "Output of Tokenizer will be fed into stopword eliminator"
   ]
  },
  {
   "cell_type": "markdown",
   "metadata": {},
   "source": [
    "### E - Stopword Eliminator"
   ]
  },
  {
   "cell_type": "markdown",
   "metadata": {},
   "source": [
    "Test strings for stopword removal"
   ]
  },
  {
   "cell_type": "code",
   "execution_count": 18,
   "metadata": {
    "pycharm": {
     "name": "#%%\n"
    }
   },
   "outputs": [],
   "source": [
    "example_sent = \"Deneme deneme ama bu şu o bu bir cümle ve belki bu bir cümle\""
   ]
  },
  {
   "cell_type": "markdown",
   "metadata": {},
   "source": [
    "#### Static Stopword Eliminator"
   ]
  },
  {
   "cell_type": "markdown",
   "metadata": {
    "pycharm": {
     "name": "#%% md\n"
    }
   },
   "source": [
    "Static stopword eliminator removes all stopwords in the sentence based on a predefined list."
   ]
  },
  {
   "cell_type": "code",
   "execution_count": 19,
   "metadata": {
    "pycharm": {
     "name": "#%%\n"
    }
   },
   "outputs": [
    {
     "name": "stdout",
     "output_type": "stream",
     "text": [
      "Original sentence:  Deneme deneme ama bu şu o bu bir cümle ve belki bu bir cümle\n",
      "Filtered sentence:  ['Deneme', 'deneme', 'cümle', 'cümle']\n"
     ]
    }
   ],
   "source": [
    "# Static Stopword Test\n",
    "word_tokens, filtered_sentence = pp.StaticStopWordEliminator.remove_stopwords(example_sent)\n",
    "print('Original sentence: ', example_sent)\n",
    "print('Filtered sentence: ', filtered_sentence)"
   ]
  },
  {
   "cell_type": "markdown",
   "metadata": {},
   "source": [
    "#### Dynamic Stopword Eliminator"
   ]
  },
  {
   "cell_type": "markdown",
   "metadata": {},
   "source": [
    "Dynamic Stopword eliminator takes list of tokens as input, and detects them using Detect() function"
   ]
  },
  {
   "cell_type": "code",
   "execution_count": 20,
   "metadata": {},
   "outputs": [
    {
     "name": "stdout",
     "output_type": "stream",
     "text": [
      "Number of tokenized and normalized tokens: 175953\n"
     ]
    }
   ],
   "source": [
    "# Re reading whole corpus\n",
    "sentences = []\n",
    "for file in conllu_files:\n",
    "    data = pyconll.load_from_file(PATH + \"/\" + file)\n",
    "    for sentence in data:\n",
    "        s = sentence.text\n",
    "        \n",
    "        # many of the sentences in the corpus are not in fact sentences, ending with comma, or no punctuation at all\n",
    "        # so we are turning them into sentences by adding ellipsis\n",
    "        \n",
    "        if s[-1] not in pp.MLBasedSentenceSplitter.sentence_ending_punctuations:\n",
    "            s += '...'\n",
    "        sentences.append(s)\n",
    "\n",
    "normalized_tokens = []\n",
    "for sentence in sentences:\n",
    "    tokenized_sentence = pp.RuleBasedTokenizer.tokenize(sentence)\n",
    "    for token in tokenized_sentence:\n",
    "        normalized_token = pp.Normalizer.remove_punctuations(token)\n",
    "        normalized_token = pp.Normalizer.convert_to_lower_case(normalized_token)\n",
    "        normalized_token = pp.Normalizer.remove_accent_marks(normalized_token)\n",
    "        normalized_tokens.append(normalized_token) if normalized_token != '' else None\n",
    "        \n",
    "print('Number of tokenized and normalized tokens:', len(normalized_tokens))"
   ]
  },
  {
   "cell_type": "markdown",
   "metadata": {},
   "source": [
    "Given list of tokens, detect stop words function dynamically determines the stop words"
   ]
  },
  {
   "cell_type": "code",
   "execution_count": 21,
   "metadata": {},
   "outputs": [
    {
     "name": "stdout",
     "output_type": "stream",
     "text": [
      "Detected stop words for the given corpus are: ['bir', 've', 'bu', 'de', 'da', 'için', 'o', 'çok', 'daha', 'gibi', 'ne', 'her', 'sonra', 'kadar', 'en', 'ama', 'ile', 'olarak', 'ben', 'olan', 'ki', 'var', 'diye', 'dedi', 'büyük', 'iki', 'yeni', 'ya', 'değil', 'gün', 'zaman', 'şey', 'önce', 'hiç', 'iyi', 'bana', 'yok', 'ise', 'benim', 'içinde', 'olduğunu']\n"
     ]
    }
   ],
   "source": [
    "pp.DynamicStopWordEliminator.detect_stop_words(normalized_tokens)"
   ]
  },
  {
   "cell_type": "markdown",
   "metadata": {},
   "source": [
    "Given list of tokens, drop stop words function drops the stop words and returns the dropped list"
   ]
  },
  {
   "cell_type": "code",
   "execution_count": 22,
   "metadata": {},
   "outputs": [
    {
     "data": {
      "text/plain": [
       "['NOT_STOP_WORD']"
      ]
     },
     "execution_count": 22,
     "metadata": {},
     "output_type": "execute_result"
    }
   ],
   "source": [
    "pp.DynamicStopWordEliminator.drop_stop_words(['NOT_STOP_WORD', 'bir', 've', 'bu', 'de', 'da', 'için', 'o', 'çok', 'daha', 'gibi', 'ne', 'her', 'sonra', 'kadar', 'en', 'ama', 'ile', 'olarak', 'ben', 'olan', 'ki', 'var', 'diye', 'dedi', 'büyük', 'iki', 'yeni', 'ya', 'değil', 'gün', 'zaman', 'şey', 'önce', 'hiç', 'iyi', 'bana', 'yok', 'ise', 'benim', 'içinde', 'olduğunu'])"
   ]
  },
  {
   "cell_type": "code",
   "execution_count": 23,
   "metadata": {},
   "outputs": [],
   "source": [
    "unq, cnts = np.unique(normalized_tokens, return_counts = True)\n",
    "df_words = pd.DataFrame({'word': unq, 'counts': cnts}).sort_values(by = 'counts', ascending = False).reset_index(drop = True)\n",
    "argmax_second_der = df_words['counts'].pct_change().abs().pct_change().abs().dropna().idxmax()"
   ]
  },
  {
   "cell_type": "code",
   "execution_count": 35,
   "metadata": {},
   "outputs": [
    {
     "data": {
      "text/html": [
       "<div>\n",
       "<style scoped>\n",
       "    .dataframe tbody tr th:only-of-type {\n",
       "        vertical-align: middle;\n",
       "    }\n",
       "\n",
       "    .dataframe tbody tr th {\n",
       "        vertical-align: top;\n",
       "    }\n",
       "\n",
       "    .dataframe thead th {\n",
       "        text-align: right;\n",
       "    }\n",
       "</style>\n",
       "<table border=\"1\" class=\"dataframe\">\n",
       "  <thead>\n",
       "    <tr style=\"text-align: right;\">\n",
       "      <th></th>\n",
       "      <th>word</th>\n",
       "      <th>counts</th>\n",
       "    </tr>\n",
       "  </thead>\n",
       "  <tbody>\n",
       "    <tr>\n",
       "      <th>0</th>\n",
       "      <td>bir</td>\n",
       "      <td>4791</td>\n",
       "    </tr>\n",
       "    <tr>\n",
       "      <th>1</th>\n",
       "      <td>ve</td>\n",
       "      <td>3062</td>\n",
       "    </tr>\n",
       "    <tr>\n",
       "      <th>2</th>\n",
       "      <td>bu</td>\n",
       "      <td>2224</td>\n",
       "    </tr>\n",
       "    <tr>\n",
       "      <th>3</th>\n",
       "      <td>de</td>\n",
       "      <td>1417</td>\n",
       "    </tr>\n",
       "    <tr>\n",
       "      <th>4</th>\n",
       "      <td>da</td>\n",
       "      <td>1294</td>\n",
       "    </tr>\n",
       "    <tr>\n",
       "      <th>5</th>\n",
       "      <td>için</td>\n",
       "      <td>981</td>\n",
       "    </tr>\n",
       "    <tr>\n",
       "      <th>6</th>\n",
       "      <td>o</td>\n",
       "      <td>886</td>\n",
       "    </tr>\n",
       "    <tr>\n",
       "      <th>7</th>\n",
       "      <td>çok</td>\n",
       "      <td>840</td>\n",
       "    </tr>\n",
       "    <tr>\n",
       "      <th>8</th>\n",
       "      <td>daha</td>\n",
       "      <td>743</td>\n",
       "    </tr>\n",
       "    <tr>\n",
       "      <th>9</th>\n",
       "      <td>gibi</td>\n",
       "      <td>677</td>\n",
       "    </tr>\n",
       "    <tr>\n",
       "      <th>10</th>\n",
       "      <td>ne</td>\n",
       "      <td>604</td>\n",
       "    </tr>\n",
       "    <tr>\n",
       "      <th>11</th>\n",
       "      <td>her</td>\n",
       "      <td>581</td>\n",
       "    </tr>\n",
       "    <tr>\n",
       "      <th>12</th>\n",
       "      <td>sonra</td>\n",
       "      <td>578</td>\n",
       "    </tr>\n",
       "    <tr>\n",
       "      <th>13</th>\n",
       "      <td>kadar</td>\n",
       "      <td>546</td>\n",
       "    </tr>\n",
       "    <tr>\n",
       "      <th>14</th>\n",
       "      <td>en</td>\n",
       "      <td>543</td>\n",
       "    </tr>\n",
       "    <tr>\n",
       "      <th>15</th>\n",
       "      <td>ama</td>\n",
       "      <td>539</td>\n",
       "    </tr>\n",
       "    <tr>\n",
       "      <th>16</th>\n",
       "      <td>ile</td>\n",
       "      <td>512</td>\n",
       "    </tr>\n",
       "    <tr>\n",
       "      <th>17</th>\n",
       "      <td>olarak</td>\n",
       "      <td>498</td>\n",
       "    </tr>\n",
       "    <tr>\n",
       "      <th>18</th>\n",
       "      <td>ben</td>\n",
       "      <td>467</td>\n",
       "    </tr>\n",
       "    <tr>\n",
       "      <th>19</th>\n",
       "      <td>olan</td>\n",
       "      <td>452</td>\n",
       "    </tr>\n",
       "    <tr>\n",
       "      <th>20</th>\n",
       "      <td>ki</td>\n",
       "      <td>416</td>\n",
       "    </tr>\n",
       "    <tr>\n",
       "      <th>21</th>\n",
       "      <td>var</td>\n",
       "      <td>408</td>\n",
       "    </tr>\n",
       "    <tr>\n",
       "      <th>22</th>\n",
       "      <td>diye</td>\n",
       "      <td>399</td>\n",
       "    </tr>\n",
       "    <tr>\n",
       "      <th>23</th>\n",
       "      <td>dedi</td>\n",
       "      <td>389</td>\n",
       "    </tr>\n",
       "    <tr>\n",
       "      <th>24</th>\n",
       "      <td>büyük</td>\n",
       "      <td>353</td>\n",
       "    </tr>\n",
       "  </tbody>\n",
       "</table>\n",
       "</div>"
      ],
      "text/plain": [
       "      word  counts\n",
       "0      bir    4791\n",
       "1       ve    3062\n",
       "2       bu    2224\n",
       "3       de    1417\n",
       "4       da    1294\n",
       "5     için     981\n",
       "6        o     886\n",
       "7      çok     840\n",
       "8     daha     743\n",
       "9     gibi     677\n",
       "10      ne     604\n",
       "11     her     581\n",
       "12   sonra     578\n",
       "13   kadar     546\n",
       "14      en     543\n",
       "15     ama     539\n",
       "16     ile     512\n",
       "17  olarak     498\n",
       "18     ben     467\n",
       "19    olan     452\n",
       "20      ki     416\n",
       "21     var     408\n",
       "22    diye     399\n",
       "23    dedi     389\n",
       "24   büyük     353"
      ]
     },
     "execution_count": 35,
     "metadata": {},
     "output_type": "execute_result"
    }
   ],
   "source": [
    "df_words.head(25)"
   ]
  },
  {
   "cell_type": "code",
   "execution_count": 25,
   "metadata": {},
   "outputs": [
    {
     "data": {
      "text/plain": [
       "Text(50, 4000, 'Threshold selected according to Elbow Rule(argmax of 2nd derivative)')"
      ]
     },
     "execution_count": 25,
     "metadata": {},
     "output_type": "execute_result"
    },
    {
     "data": {
      "image/png": "[encoded data removed]",
      "text/plain": [
       "<Figure size 1224x288 with 1 Axes>"
      ]
     },
     "metadata": {
      "needs_background": "light"
     },
     "output_type": "display_data"
    }
   ],
   "source": [
    "f, ax = plt.subplots(figsize = (17, 4))\n",
    "ax.plot(df_words['counts'])\n",
    "ax.set_title('Frequency distribution of ' + str(len(unq)) + ' tokens')\n",
    "ax.set_xlim(-20, 1000)\n",
    "ax.axvline(argmax_second_der, color = 'red', ls = '--')\n",
    "ax.annotate('Threshold selected according to Elbow Rule(argmax of 2nd derivative)',(argmax_second_der + 10, 4000), size = 10)"
   ]
  },
  {
   "cell_type": "code",
   "execution_count": null,
   "metadata": {},
   "outputs": [],
   "source": []
  }
 ],
 "metadata": {
  "kernelspec": {
   "display_name": "Python 3",
   "language": "python",
   "name": "python3"
  },
  "language_info": {
   "codemirror_mode": {
    "name": "ipython",
    "version": 3
   },
   "file_extension": ".py",
   "mimetype": "text/x-python",
   "name": "python",
   "nbconvert_exporter": "python",
   "pygments_lexer": "ipython3",
   "version": "3.7.9"
  }
 },
 "nbformat": 4,
 "nbformat_minor": 4
}
